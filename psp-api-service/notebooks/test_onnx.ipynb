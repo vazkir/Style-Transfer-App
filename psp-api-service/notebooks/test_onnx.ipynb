{
 "cells": [
  {
   "cell_type": "code",
   "execution_count": null,
   "metadata": {},
   "outputs": [],
   "source": [
    "from onnx_tf.backend import prepare\n",
    "\n",
    "tic = time.time()\n",
    "\n",
    "# Convert model to tensorflow\n",
    "model_psp = onnx.load(onnx_path)\n",
    "# tf_rep_psp = prepare(model_psp)\n",
    "\n",
    "toc = time.time()\n",
    "print('Loading and converting PSP onnx to tf took {:.4f} seconds.'.format(toc - tic))"
   ]
  }
 ],
 "metadata": {
  "language_info": {
   "name": "python"
  },
  "orig_nbformat": 4
 },
 "nbformat": 4,
 "nbformat_minor": 2
}
