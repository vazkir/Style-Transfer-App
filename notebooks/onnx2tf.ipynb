{
 "cells": [
  {
   "cell_type": "code",
   "execution_count": 1,
   "metadata": {},
   "outputs": [
    {
     "name": "stdout",
     "output_type": "stream",
     "text": [
      "Init Plugin\n",
      "Init Graph Optimizer\n",
      "Init Kernel\n"
     ]
    }
   ],
   "source": [
    "import time\n",
    "import onnx\n",
    "\n",
    "from onnx_tf.backend import prepare\n",
    "import tensorflow as tf\n"
   ]
  },
  {
   "cell_type": "code",
   "execution_count": 2,
   "metadata": {},
   "outputs": [
    {
     "data": {
      "text/plain": [
       "<module 'onnx_tf' from '/Users/vascomeerman/miniforge3/envs/MLOpsProject/lib/python3.9/site-packages/onnx_tf/__init__.py'>"
      ]
     },
     "execution_count": 2,
     "metadata": {},
     "output_type": "execute_result"
    }
   ],
   "source": [
    "import onnx_tf\n",
    "onnx_tf"
   ]
  },
  {
   "cell_type": "code",
   "execution_count": 3,
   "metadata": {},
   "outputs": [],
   "source": [
    "# !pwd\n",
    "\n",
    "WEIGHTS_PATH = \"persistent-folder/weights/\"\n",
    "# CURRENT_MODEL = \"psp_clean_gpu2\"\n",
    "CURRENT_MODEL_CPU = \"psp_clean_cpu_v3\"\n"
   ]
  },
  {
   "cell_type": "code",
   "execution_count": 4,
   "metadata": {},
   "outputs": [
    {
     "name": "stdout",
     "output_type": "stream",
     "text": [
      "Metal device set to: Apple M1\n",
      "\n",
      "systemMemory: 16.00 GB\n",
      "maxCacheSize: 5.33 GB\n",
      "\n"
     ]
    },
    {
     "name": "stderr",
     "output_type": "stream",
     "text": [
      "2021-12-14 17:04:10.976517: I tensorflow/core/common_runtime/pluggable_device/pluggable_device_factory.cc:305] Could not identify NUMA node of platform GPU ID 0, defaulting to 0. Your kernel may not have been built with NUMA support.\n",
      "2021-12-14 17:04:10.977012: I tensorflow/core/common_runtime/pluggable_device/pluggable_device_factory.cc:271] Created TensorFlow device (/job:localhost/replica:0/task:0/device:GPU:0 with 0 MB memory) -> physical PluggableDevice (device: 0, name: METAL, pci bus id: <undefined>)\n"
     ]
    },
    {
     "name": "stdout",
     "output_type": "stream",
     "text": [
      "Loading onnx models to tf, took 8.8841 seconds.\n"
     ]
    }
   ],
   "source": [
    "import onnx\n",
    "from onnx_tf.backend import prepare\n",
    "tic = time.time()\n",
    "\n",
    "# Load ONNX model and convert to TensorFlow format\n",
    "model_psp_onnx = onnx.load(f'{WEIGHTS_PATH}{CURRENT_MODEL_CPU}.onnx')\n",
    "# model_decoder_onnx = onnx.load('../output/decoder.onnx')\n",
    "\n",
    "# Load onnx model into onnx_tf representation\n",
    "tf_psp_rep = prepare(model_psp_onnx, device=\"CPU\")\n",
    "# tf_decoder_rep = prepare(model_decoder_onnx)\n",
    "\n",
    "# Timer ends\n",
    "toc = time.time()\n",
    "print('Loading onnx models to tf, took {:.4f} seconds.'.format(toc - tic))"
   ]
  },
  {
   "cell_type": "code",
   "execution_count": 5,
   "metadata": {},
   "outputs": [
    {
     "name": "stdout",
     "output_type": "stream",
     "text": [
      "WARNING:tensorflow:From /Users/vascomeerman/miniforge3/envs/MLOpsProject/lib/python3.9/site-packages/tensorflow/python/ops/array_ops.py:5043: calling gather (from tensorflow.python.ops.array_ops) with validate_indices is deprecated and will be removed in a future version.\n",
      "Instructions for updating:\n",
      "The `validate_indices` argument has no effect. Indices are always validated on CPU and never validated on GPU.\n"
     ]
    },
    {
     "name": "stderr",
     "output_type": "stream",
     "text": [
      "2021-12-14 17:04:58.489842: W tensorflow/python/util/util.cc:348] Sets are not currently considered sequences, but this may change in the future, so consider avoiding using them.\n",
      "WARNING:absl:Found untraced functions such as gen_tensor_dict while saving (showing 1 of 1). These functions will not be directly callable after loading.\n"
     ]
    }
   ],
   "source": [
    "tic = time.time()\n",
    "\n",
    "# Export models as .pb file\n",
    "tf_psp_rep.export_graph(f'{WEIGHTS_PATH}{CURRENT_MODEL_CPU}.pb')\n",
    "\n",
    "# Timer ends\n",
    "toc = time.time()\n",
    "print('Converting save onnx the model as pb, took {:.4f} seconds.'.format(toc - tic))\n"
   ]
  },
  {
   "cell_type": "code",
   "execution_count": null,
   "metadata": {},
   "outputs": [],
   "source": []
  }
 ],
 "metadata": {
  "interpreter": {
   "hash": "117e0c94d86bb756c17858daa6557ea5402324be38de0135fce002acf9132915"
  },
  "kernelspec": {
   "display_name": "Python 3.7.12 64-bit ('models-YsVPeZVR': pipenv)",
   "language": "python",
   "name": "python3"
  },
  "language_info": {
   "codemirror_mode": {
    "name": "ipython",
    "version": 3
   },
   "file_extension": ".py",
   "mimetype": "text/x-python",
   "name": "python",
   "nbconvert_exporter": "python",
   "pygments_lexer": "ipython3",
   "version": "3.9.7"
  },
  "orig_nbformat": 4
 },
 "nbformat": 4,
 "nbformat_minor": 2
}
