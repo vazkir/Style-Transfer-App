{
 "cells": [
  {
   "cell_type": "code",
   "execution_count": 16,
   "metadata": {},
   "outputs": [
    {
     "name": "stderr",
     "output_type": "stream",
     "text": [
      "  0%|          | 0/6 [19:45:57<?, ?it/s]"
     ]
    },
    {
     "name": "stdout",
     "output_type": "stream",
     "text": [
      "'https://farm4.staticflickr.com/3597/3359921429_fc86a7519e_b.jpg' generated an exception: fetch_url() takes 1 positional argument but 2 were given\n",
      "'https://live.staticflickr.com/4571/37795143414_8ccae77768_o.jpg' generated an exception: fetch_url() takes 1 positional argument but 2 were given\n",
      "'https://live.staticflickr.com/331/18765122504_ea8c9ea6ce_o.jpg' generated an exception: fetch_url() takes 1 positional argument but 2 were given\n",
      "'https://live.staticflickr.com/1732/27535176747_78b83536af_o.jpg' generated an exception: fetch_url() takes 1 positional argument but 2 were given\n",
      "'https://live.staticflickr.com/1919/44312457665_6f7b6c2c42_o.jpg' generated an exception: fetch_url() takes 1 positional argument but 2 were given\n",
      "'https://farm8.staticflickr.com/7428/27138770446_6618c10ffb_b.jpg' generated an exception: fetch_url() takes 1 positional argument but 2 were given\n",
      "Done multi-thread (0.0)\n",
      "\n"
     ]
    },
    {
     "name": "stderr",
     "output_type": "stream",
     "text": [
      "\n"
     ]
    }
   ],
   "source": [
    "# From: https://github.com/ultralytics/flickr_scraper/blob/66a8f42af171bfd7d5cb3af3172ca7e5469adcc9/utils/general.py#L11\n",
    "\n",
    "import os\n",
    "from pathlib import Path\n",
    "from multiprocessing.pool import ThreadPool\n",
    "from multiprocessing import cpu_count\n",
    "from time import time as timer\n",
    "import concurrent.futures\n",
    "\n",
    "from PIL import Image\n",
    "\n",
    "\n",
    "from tqdm import tqdm\n",
    "from urllib import request\n",
    "\n",
    "\n",
    "# Adding information about user agent to global request object\n",
    "opener = request.build_opener()\n",
    "opener.addheaders=[('User-Agent','Mozilla/5.0 (Windows NT 6.1; WOW64) AppleWebKit/537.36 (KHTML, like Gecko) Chrome/36.0.1941.0 Safari/537.36')]\n",
    "request.install_opener(opener)\n",
    "\n",
    "\n",
    "def fetch_url(url, timeout):\n",
    "    # Grabs everything after the last slash\n",
    "    fileName = dir + url.split('/')[-1]\n",
    "    try:\n",
    "        result = request.urlretrieve(url, fileName)\n",
    "        print(result)\n",
    "        return url, ''\n",
    "    except Exception as e:\n",
    "        return url, e\n",
    "\n",
    "\n",
    "\n",
    "def download_imgs_threaded(urls):\n",
    "    \n",
    "    # Multi-thread\n",
    "    t = timer()\n",
    "    max_threads = cpu_count() \n",
    "\n",
    "\n",
    "    # We can use a with statement to ensure threads are cleaned up promptly\n",
    "    # This manages all the threads and the re-usability once 1 task has finisged\n",
    "    with concurrent.futures.ThreadPoolExecutor(max_workers=max_threads) as executor:\n",
    "\n",
    "        # Start the load operations and mark each future with its URL\n",
    "        # Future operations to load urls\n",
    "        future_to_url = {executor.submit(fetch_url, url, 5): url for url in urls}\n",
    "        \n",
    "        \n",
    "        for future in concurrent.futures.as_completed(future_to_url):\n",
    "            url = future_to_url[future]\n",
    "            try:\n",
    "                data = future.result()\n",
    "            except Exception as exc:\n",
    "                print('%r generated an exception: %s' % (url, exc))\n",
    "            else:\n",
    "                print('%r page is %d bytes' % (url, len(data)))\n",
    "\n",
    "\n",
    "\n",
    "\n",
    "#     # Our delayed tasks\n",
    "#     results = ThreadPool(max_threads).imap_unordered(fetch_url, urls) \n",
    "# \n",
    "#     \n",
    "#     progress_bar = tqdm(enumerate(results), total=len(urls))\n",
    "#     print(progress_bar)\n",
    "#     # for i, (url, resp) in progress_bar:\n",
    "#     #     print(resp)\n",
    "#         # progress_bar.set_description(f\"{i} {resp}\", refresh=True)\n",
    "\n",
    "    print(f\"Done multi-thread ({round((timer() - t), 2)})\\n\")\n",
    "\n",
    "\n",
    "\n",
    "\n",
    "urls = ['https://farm8.staticflickr.com/7428/27138770446_6618c10ffb_b.jpg',\n",
    "        'https://live.staticflickr.com/4571/37795143414_8ccae77768_o.jpg',\n",
    "        'https://live.staticflickr.com/1732/27535176747_78b83536af_o.jpg',\n",
    "        'https://live.staticflickr.com/331/18765122504_ea8c9ea6ce_o.jpg',\n",
    "        'https://live.staticflickr.com/1919/44312457665_6f7b6c2c42_o.jpg',\n",
    "        'https://farm4.staticflickr.com/3597/3359921429_fc86a7519e_b.jpg'] \n",
    "download_imgs_threaded(urls)\n"
   ]
  },
  {
   "cell_type": "code",
   "execution_count": null,
   "metadata": {},
   "outputs": [],
   "source": []
  }
 ],
 "metadata": {
  "interpreter": {
   "hash": "77ed5795d16ccc9261959c2cdd3d7136049904981f0ebcd029416055b8f109ae"
  },
  "kernelspec": {
   "display_name": "Python 3.9.7 64-bit ('MLOpsProject': conda)",
   "name": "python3"
  },
  "language_info": {
   "codemirror_mode": {
    "name": "ipython",
    "version": 3
   },
   "file_extension": ".py",
   "mimetype": "text/x-python",
   "name": "python",
   "nbconvert_exporter": "python",
   "pygments_lexer": "ipython3",
   "version": "3.9.7"
  },
  "orig_nbformat": 4
 },
 "nbformat": 4,
 "nbformat_minor": 2
}
